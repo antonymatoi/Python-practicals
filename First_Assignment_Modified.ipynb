{
  "nbformat": 4,
  "nbformat_minor": 0,
  "metadata": {
    "colab": {
      "name": "First Assignment Modified.ipynb",
      "provenance": [],
      "authorship_tag": "ABX9TyMENOUeR6O+RHAOfuwDdEDm",
      "include_colab_link": true
    },
    "kernelspec": {
      "name": "python3",
      "display_name": "Python 3"
    },
    "language_info": {
      "name": "python"
    }
  },
  "cells": [
    {
      "cell_type": "markdown",
      "metadata": {
        "id": "view-in-github",
        "colab_type": "text"
      },
      "source": [
        "<a href=\"https://colab.research.google.com/github/antonymatoi/Python-practicals/blob/main/First_Assignment_Modified.ipynb\" target=\"_parent\"><img src=\"https://colab.research.google.com/assets/colab-badge.svg\" alt=\"Open In Colab\"/></a>"
      ]
    },
    {
      "cell_type": "code",
      "metadata": {
        "colab": {
          "base_uri": "https://localhost:8080/"
        },
        "id": "k7Qwie16DB1q",
        "outputId": "b6936b9e-dffb-4e53-95f1-e1e14f38a866"
      },
      "source": [
        "#Enter first and last name\n",
        "names=input(\"Enter first and last name\")\n",
        "print()\n",
        "#Enter your goals for this class\n",
        "print(\"What are your goals for this class-long term goals?\")\n",
        "goals=input('What would you like to be.....when all is said and done with the class?')\n",
        "print()\n",
        "print()\n",
        "class color:\n",
        "   PURPLE = '\\033[95m'\n",
        "   CYAN = '\\033[96m'\n",
        "   DARKCYAN = '\\033[36m'\n",
        "   BLUE = '\\033[94m'\n",
        "   GREEN = '\\033[92m'\n",
        "   YELLOW = '\\033[93m'\n",
        "   RED = '\\033[91m'\n",
        "   BOLD = '\\033[1m'\n",
        "   UNDERLINE = '\\033[4m'\n",
        "   END = '\\033[0m'\n",
        "print(color.BOLD+names+color.END)\n",
        "print(color.BOLD+goals+color.END)\n"
      ],
      "execution_count": 5,
      "outputs": [
        {
          "output_type": "stream",
          "text": [
            "Enter first and last name Antony Matoi\n",
            "\n",
            "What are your goals for this class-long term goals?\n",
            "What would you like to be.....when all is said and done with the class? Be a Python Developer and a Data Scientist\n",
            "\n",
            "\n",
            "\u001b[1m Antony Matoi\u001b[0m\n",
            "\u001b[1m Be a Python Developer and a Data Scientist\u001b[0m\n"
          ],
          "name": "stdout"
        }
      ]
    }
  ]
}