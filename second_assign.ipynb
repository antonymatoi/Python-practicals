{
  "nbformat": 4,
  "nbformat_minor": 0,
  "metadata": {
    "colab": {
      "name": "second assign.ipynb",
      "provenance": [],
      "collapsed_sections": []
    },
    "kernelspec": {
      "name": "python3",
      "display_name": "Python 3"
    },
    "language_info": {
      "name": "python"
    }
  },
  "cells": [
    {
      "cell_type": "code",
      "metadata": {
        "colab": {
          "base_uri": "https://localhost:8080/"
        },
        "id": "zsoh9KRWJ7E-",
        "outputId": "024e03e6-949d-4e9c-80ae-3205eda5df10"
      },
      "source": [
        "names=input(\"Enter your first and last names\")\n",
        "print(names)\n",
        "#name=input(\"Enter your last name\")\n",
        "#print(name)\n",
        "country=input(\"Enter Country of origin\")\n",
        "print(country)\n",
        "profession=input(\"Enter Current nature of your job\")\n",
        "print(profession)\n",
        "emailaddress=input(\"Enter your email address\")\n",
        "print(emailaddress)\n",
        "phonenumber=input(\"Enter Phone Number\")\n",
        "print(phonenumber)\n",
        "residence=input(\"Enter Current city of residence\")\n",
        "print(residence)\n",
        "physicaladdress=input(\"Enter Physical address\")\n",
        "print(physicaladdress)"
      ],
      "execution_count": 3,
      "outputs": [
        {
          "output_type": "stream",
          "text": [
            "Enter your first and last names Antony Matoi\n",
            " Antony Matoi\n",
            "Enter Country of origin Kenya\n",
            " Kenya\n",
            "Enter Current nature of your job  Teaching\n",
            "  Teaching\n",
            "Enter your email address antony.matoi08@gmail.com\n",
            " antony.matoi08@gmail.com\n",
            "Enter Phone Number +254793963990\n",
            " +254793963990\n",
            "Enter Current city of residence Kibwezi\n",
            " Kibwezi\n",
            "Enter Physical address Mtito Andei\n",
            " Mtito Andei\n"
          ],
          "name": "stdout"
        }
      ]
    }
  ]
}