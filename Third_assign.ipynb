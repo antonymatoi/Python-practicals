{
  "nbformat": 4,
  "nbformat_minor": 0,
  "metadata": {
    "colab": {
      "name": "Third assign.ipynb",
      "provenance": [],
      "collapsed_sections": []
    },
    "kernelspec": {
      "name": "python3",
      "display_name": "Python 3"
    },
    "language_info": {
      "name": "python"
    }
  },
  "cells": [
    {
      "cell_type": "code",
      "metadata": {
        "colab": {
          "base_uri": "https://localhost:8080/"
        },
        "id": "TVZ4xNOSQf_F",
        "outputId": "1cdc79d8-05b0-457b-c5fc-7c633aba6f28"
      },
      "source": [
        "#........ and shoot for the Sky in you getting a big promotion & opportunity\n",
        "#Enter Full Names\n",
        "\n",
        "#print(\"Enter First and Last Name:\")\n",
        "fname = input(\"fname:\") #First Name\n",
        "lname = input(\"lname:\") #last Name\n",
        "fullnames = fname + \" \" + lname\n",
        "\n",
        "#Enter phone, email\n",
        "#print(\"Enter Customer's Phone Number: \")\n",
        "phone = input(\"Phone:\")\n",
        "#print(\"Enter Customer's email aaddress:\")\n",
        "email = input(\"Email:\")\n",
        "#price of a used car\n",
        "price = 10000\n",
        "has_good_credit = True;\n",
        "\n",
        "if has_good_credit:\n",
        "    down_payment = 0.1 * price\n",
        "else:\n",
        "    down_payment = 0.2 * price\n",
        "print(\"Full Names:\", fullnames)\n",
        "print(\"Phone: \", phone)\n",
        "print(\"Email: \", email)\n",
        "print(\"Down Payment={:.2f}\".format(down_payment))\n"
      ],
      "execution_count": 47,
      "outputs": [
        {
          "output_type": "stream",
          "text": [
            "fname: Antony\n",
            "lname: Matoi\n",
            "Phone: +254793963990\n",
            "Email:antony.matoi08@gmail.com\n",
            "Full Names:  Antony  Matoi\n",
            "Phone:   +254793963990\n",
            "Email:  antony.matoi08@gmail.com\n",
            "Down Payment=1000.00\n"
          ],
          "name": "stdout"
        }
      ]
    }
  ]
}